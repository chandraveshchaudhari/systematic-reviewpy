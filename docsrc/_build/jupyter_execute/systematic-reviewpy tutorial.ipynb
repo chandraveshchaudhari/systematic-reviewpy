{
 "cells": [
  {
   "cell_type": "markdown",
   "id": "b15a3e12",
   "metadata": {
    "id": "b15a3e12",
    "tags": []
   },
   "source": [
    "# Quick Tutorial"
   ]
  },
  {
   "cell_type": "markdown",
   "id": "bjNb91Ujh24e",
   "metadata": {
    "id": "bjNb91Ujh24e"
   },
   "source": [
    "### Installation"
   ]
  },
  {
   "cell_type": "markdown",
   "id": "TTbVIzuMVDsl",
   "metadata": {
    "id": "TTbVIzuMVDsl"
   },
   "source": [
    "#### Required Dependencies"
   ]
  },
  {
   "cell_type": "code",
   "execution_count": 1,
   "id": "73336c13",
   "metadata": {
    "id": "73336c13"
   },
   "outputs": [
    {
     "name": "stdout",
     "output_type": "stream",
     "text": [
      "Requirement already satisfied: rispy in /home/chaudharyubuntu/PycharmProjects/systematic-reviewpy/venv/lib/python3.8/site-packages (0.7.1)\r\n"
     ]
    },
    {
     "name": "stdout",
     "output_type": "stream",
     "text": [
      "Requirement already satisfied: pandas in /home/chaudharyubuntu/PycharmProjects/systematic-reviewpy/venv/lib/python3.8/site-packages (1.3.2)\r\n",
      "Requirement already satisfied: numpy>=1.17.3 in /home/chaudharyubuntu/PycharmProjects/systematic-reviewpy/venv/lib/python3.8/site-packages (from pandas) (1.21.2)\r\n",
      "Requirement already satisfied: pytz>=2017.3 in /home/chaudharyubuntu/PycharmProjects/systematic-reviewpy/venv/lib/python3.8/site-packages (from pandas) (2021.1)\r\n",
      "Requirement already satisfied: python-dateutil>=2.7.3 in /home/chaudharyubuntu/PycharmProjects/systematic-reviewpy/venv/lib/python3.8/site-packages (from pandas) (2.8.2)\r\n"
     ]
    },
    {
     "name": "stdout",
     "output_type": "stream",
     "text": [
      "Requirement already satisfied: six>=1.5 in /home/chaudharyubuntu/PycharmProjects/systematic-reviewpy/venv/lib/python3.8/site-packages (from python-dateutil>=2.7.3->pandas) (1.16.0)\r\n"
     ]
    },
    {
     "name": "stdout",
     "output_type": "stream",
     "text": [
      "Requirement already satisfied: matplotlib in /home/chaudharyubuntu/PycharmProjects/systematic-reviewpy/venv/lib/python3.8/site-packages (3.4.3)\r\n",
      "Requirement already satisfied: numpy>=1.16 in /home/chaudharyubuntu/PycharmProjects/systematic-reviewpy/venv/lib/python3.8/site-packages (from matplotlib) (1.21.2)\r\n",
      "Requirement already satisfied: kiwisolver>=1.0.1 in /home/chaudharyubuntu/PycharmProjects/systematic-reviewpy/venv/lib/python3.8/site-packages (from matplotlib) (1.3.2)\r\n",
      "Requirement already satisfied: pillow>=6.2.0 in /home/chaudharyubuntu/PycharmProjects/systematic-reviewpy/venv/lib/python3.8/site-packages (from matplotlib) (8.4.0)\r\n",
      "Requirement already satisfied: python-dateutil>=2.7 in /home/chaudharyubuntu/PycharmProjects/systematic-reviewpy/venv/lib/python3.8/site-packages (from matplotlib) (2.8.2)\r\n",
      "Requirement already satisfied: cycler>=0.10 in /home/chaudharyubuntu/PycharmProjects/systematic-reviewpy/venv/lib/python3.8/site-packages (from matplotlib) (0.11.0)\r\n",
      "Requirement already satisfied: pyparsing>=2.2.1 in /home/chaudharyubuntu/PycharmProjects/systematic-reviewpy/venv/lib/python3.8/site-packages (from matplotlib) (2.4.7)\r\n",
      "Requirement already satisfied: six>=1.5 in /home/chaudharyubuntu/PycharmProjects/systematic-reviewpy/venv/lib/python3.8/site-packages (from python-dateutil>=2.7->matplotlib) (1.16.0)\r\n"
     ]
    },
    {
     "name": "stdout",
     "output_type": "stream",
     "text": [
      "Requirement already satisfied: seaborn in /home/chaudharyubuntu/PycharmProjects/systematic-reviewpy/venv/lib/python3.8/site-packages (0.11.2)\r\n"
     ]
    },
    {
     "name": "stdout",
     "output_type": "stream",
     "text": [
      "Requirement already satisfied: matplotlib>=2.2 in /home/chaudharyubuntu/PycharmProjects/systematic-reviewpy/venv/lib/python3.8/site-packages (from seaborn) (3.4.3)\r\n",
      "Requirement already satisfied: scipy>=1.0 in /home/chaudharyubuntu/PycharmProjects/systematic-reviewpy/venv/lib/python3.8/site-packages (from seaborn) (1.7.2)\r\n",
      "Requirement already satisfied: numpy>=1.15 in /home/chaudharyubuntu/PycharmProjects/systematic-reviewpy/venv/lib/python3.8/site-packages (from seaborn) (1.21.2)\r\n",
      "Requirement already satisfied: pandas>=0.23 in /home/chaudharyubuntu/PycharmProjects/systematic-reviewpy/venv/lib/python3.8/site-packages (from seaborn) (1.3.2)\r\n",
      "Requirement already satisfied: pillow>=6.2.0 in /home/chaudharyubuntu/PycharmProjects/systematic-reviewpy/venv/lib/python3.8/site-packages (from matplotlib>=2.2->seaborn) (8.4.0)\r\n",
      "Requirement already satisfied: kiwisolver>=1.0.1 in /home/chaudharyubuntu/PycharmProjects/systematic-reviewpy/venv/lib/python3.8/site-packages (from matplotlib>=2.2->seaborn) (1.3.2)\r\n",
      "Requirement already satisfied: cycler>=0.10 in /home/chaudharyubuntu/PycharmProjects/systematic-reviewpy/venv/lib/python3.8/site-packages (from matplotlib>=2.2->seaborn) (0.11.0)\r\n",
      "Requirement already satisfied: python-dateutil>=2.7 in /home/chaudharyubuntu/PycharmProjects/systematic-reviewpy/venv/lib/python3.8/site-packages (from matplotlib>=2.2->seaborn) (2.8.2)\r\n",
      "Requirement already satisfied: pyparsing>=2.2.1 in /home/chaudharyubuntu/PycharmProjects/systematic-reviewpy/venv/lib/python3.8/site-packages (from matplotlib>=2.2->seaborn) (2.4.7)\r\n",
      "Requirement already satisfied: pytz>=2017.3 in /home/chaudharyubuntu/PycharmProjects/systematic-reviewpy/venv/lib/python3.8/site-packages (from pandas>=0.23->seaborn) (2021.1)\r\n"
     ]
    },
    {
     "name": "stdout",
     "output_type": "stream",
     "text": [
      "Requirement already satisfied: six>=1.5 in /home/chaudharyubuntu/PycharmProjects/systematic-reviewpy/venv/lib/python3.8/site-packages (from python-dateutil>=2.7->matplotlib>=2.2->seaborn) (1.16.0)\r\n"
     ]
    }
   ],
   "source": [
    "!pip install rispy\n",
    "!pip install pandas\n",
    "!pip install matplotlib\n",
    "!pip install seaborn"
   ]
  },
  {
   "cell_type": "markdown",
   "id": "1q4bRlAxVYKC",
   "metadata": {
    "id": "1q4bRlAxVYKC"
   },
   "source": [
    "#### installing the systematic-reviewpy"
   ]
  },
  {
   "cell_type": "code",
   "execution_count": 2,
   "id": "gIHx_f6jsNzG",
   "metadata": {
    "id": "gIHx_f6jsNzG"
   },
   "outputs": [
    {
     "name": "stdout",
     "output_type": "stream",
     "text": [
      "\u001b[31mERROR: Could not find a version that satisfies the requirement systematic-reviewpy (from versions: none)\u001b[0m\r\n",
      "\u001b[31mERROR: No matching distribution found for systematic-reviewpy\u001b[0m\r\n"
     ]
    }
   ],
   "source": [
    "!python3 -m pip install systematic-reviewpy"
   ]
  },
  {
   "cell_type": "markdown",
   "id": "ZAUimZui4S7u",
   "metadata": {
    "id": "ZAUimZui4S7u"
   },
   "source": [
    "google colab Jupyter notebook Instruction :     \n",
    "`Ctrl m m` will convert a code cell to a text cell.       \n",
    " `Ctrl m y` will convert a text cell to a code cell.       "
   ]
  },
  {
   "cell_type": "markdown",
   "id": "0UexV0R9ZCUL",
   "metadata": {
    "id": "0UexV0R9ZCUL"
   },
   "source": [
    "##### install pdftotext dependencies: Installing needed python pdf readers for validation and search count of pdf text."
   ]
  },
  {
   "cell_type": "markdown",
   "id": "mKtjHh8aV2L5",
   "metadata": {
    "id": "mKtjHh8aV2L5"
   },
   "source": [
    "<font color=\"#F7B905\" size=\"3\">Please run cell based on your OS and keep other cells as markdown.</font>"
   ]
  },
  {
   "cell_type": "code",
   "execution_count": 3,
   "id": "oFSqx54JZTI8",
   "metadata": {
    "id": "oFSqx54JZTI8"
   },
   "outputs": [
    {
     "name": "stdout",
     "output_type": "stream",
     "text": [
      "[sudo] password for chaudharyubuntu: "
     ]
    },
    {
     "name": "stdout",
     "output_type": "stream",
     "text": [
      "\r\n"
     ]
    }
   ],
   "source": [
    "##### Debian, Ubuntu, and friends\n",
    "!sudo apt install build-essential libpoppler-cpp-dev pkg-config python3-dev"
   ]
  },
  {
   "cell_type": "markdown",
   "id": "Fs7aPlANZy_O",
   "metadata": {
    "id": "Fs7aPlANZy_O"
   },
   "source": [
    "##### Fedora, Red Hat, and friends\n",
    "!sudo yum install gcc-c++ pkgconfig poppler-cpp-devel python3-devel"
   ]
  },
  {
   "cell_type": "markdown",
   "id": "fVGqb4gZZS6n",
   "metadata": {
    "id": "fVGqb4gZZS6n"
   },
   "source": [
    "##### macOS\n",
    "!brew install pkg-config poppler python"
   ]
  },
  {
   "cell_type": "markdown",
   "id": "uHPawm47a0RC",
   "metadata": {
    "id": "uHPawm47a0RC"
   },
   "source": [
    "##### Windows using conda\n",
    "!conda install -c conda-forge poppler"
   ]
  },
  {
   "cell_type": "markdown",
   "id": "l1kE_nEkaPTh",
   "metadata": {
    "id": "l1kE_nEkaPTh"
   },
   "source": [
    "#### Install python pdf readers"
   ]
  },
  {
   "cell_type": "code",
   "execution_count": null,
   "id": "2a11d4e7",
   "metadata": {
    "id": "2a11d4e7"
   },
   "outputs": [],
   "source": [
    "## https://pypi.org/project/PyMuPDF/\n",
    "!python -m pip install --upgrade pip\n",
    "!python -m pip install --upgrade pymupdf\n",
    "## https://pypi.org/project/pdftotext/\n",
    "!pip install pdftotext"
   ]
  },
  {
   "cell_type": "markdown",
   "id": "5gqcBKW5YKWb",
   "metadata": {
    "id": "5gqcBKW5YKWb"
   },
   "source": [
    "#### importing the systematic-reviewpy"
   ]
  },
  {
   "cell_type": "code",
   "execution_count": null,
   "id": "b75c22a4",
   "metadata": {
    "id": "b75c22a4"
   },
   "outputs": [],
   "source": [
    "import systematic_review"
   ]
  },
  {
   "cell_type": "markdown",
   "id": "vVYt0_1Vcg9d",
   "metadata": {
    "id": "vVYt0_1Vcg9d"
   },
   "source": [
    "Most of the object contains methods like to_csv and to_excel to output files"
   ]
  },
  {
   "cell_type": "markdown",
   "id": "xWz3svaVk7oD",
   "metadata": {
    "id": "xWz3svaVk7oD"
   },
   "source": [
    "Check documentation for more string manipulation methods : \n",
    "- preprocess_string (default and applied before all other implemented functions)\n",
    "- custom_text_manipulation_function : for putting your custom_text_manipulation_function function to preprocess the text\n",
    "- nltk_remove_stopwords\n",
    "- pattern_lemma_or_lemmatize_text \n",
    "- nltk_word_net_lemmatizer \n",
    "- nltk_porter_stemmer\n",
    "- nltk_lancaster_stemmer \n",
    "- spacy_lemma \n",
    "- nltk_remove_stopwords_spacy_lemma \n",
    "- convert_string_to_lowercase\n",
    "- preprocess_string_to_space_separated_words"
   ]
  },
  {
   "cell_type": "markdown",
   "id": "opwNm_pHm5Be",
   "metadata": {
    "id": "opwNm_pHm5Be"
   },
   "source": [
    "<font color=\"#F7B905\" size=\"3\">Please provide name of string manipulation method.</font>"
   ]
  },
  {
   "cell_type": "code",
   "execution_count": null,
   "id": "da91fc84",
   "metadata": {
    "id": "da91fc84"
   },
   "outputs": [],
   "source": [
    "string_manipulation_method = 'convert_string_to_lowercase'"
   ]
  },
  {
   "cell_type": "markdown",
   "id": "1dab0dbd",
   "metadata": {
    "id": "1dab0dbd",
    "jp-MarkdownHeadingCollapsed": true,
    "tags": []
   },
   "source": [
    "## Optional Converting and wrangling citation files"
   ]
  },
  {
   "cell_type": "markdown",
   "id": "79df2b57",
   "metadata": {
    "id": "79df2b57"
   },
   "source": [
    "wrangling or modification of the citation files is required if there is format error while uploading files into reference manager."
   ]
  },
  {
   "cell_type": "code",
   "execution_count": null,
   "id": "75ec5c5b",
   "metadata": {
    "id": "75ec5c5b"
   },
   "outputs": [],
   "source": [
    "#citation.csv_citations_to_ris_converter(\"./Data files and Python Code/Downloaded files/springer.csv\", \"./Data files and Python Code/Modified files/springer.ris\")"
   ]
  },
  {
   "cell_type": "code",
   "execution_count": null,
   "id": "97da36da",
   "metadata": {
    "id": "97da36da"
   },
   "outputs": [],
   "source": [
    "#citation.remove_empty_lines(\"./Data files and Python Code/Downloaded files/entropy-v12-i12_20210610.ris\", \"./Data files and Python Code/Modified files/MDPI.ris\")"
   ]
  },
  {
   "cell_type": "code",
   "execution_count": null,
   "id": "974f2b51",
   "metadata": {
    "id": "974f2b51"
   },
   "outputs": [],
   "source": [
    "#citation.edit_ris_citation_paste_values_after_regex_pattern(\"./Data files and Python Code/Modified files/MDPI.ris\", \"./Data files and Python Code/Modified files/mdpi.ris\")"
   ]
  },
  {
   "cell_type": "code",
   "execution_count": null,
   "id": "a09eaf2e",
   "metadata": {
    "id": "a09eaf2e"
   },
   "outputs": [],
   "source": [
    "#import os\n",
    "#os.remove(\"./Data files and Python Code/Modified files/MDPI.ris\")"
   ]
  },
  {
   "cell_type": "markdown",
   "id": "CquSYFX-hJM-",
   "metadata": {
    "id": "CquSYFX-hJM-"
   },
   "source": [
    "## Citations"
   ]
  },
  {
   "cell_type": "markdown",
   "id": "35b8ffdc",
   "metadata": {
    "id": "35b8ffdc",
    "tags": []
   },
   "source": [
    "### All files are uploaded to mendeley reference manager, updated using mendeley database, and downloaded in ris format."
   ]
  },
  {
   "cell_type": "markdown",
   "id": "d3cb8a5b",
   "metadata": {
    "id": "d3cb8a5b"
   },
   "source": [
    "<font color=\"#F7B905\" size=\"3\">Please provide the path of the folder that contains all citations ris files.</font>"
   ]
  },
  {
   "cell_type": "code",
   "execution_count": null,
   "id": "b0bdbb00",
   "metadata": {
    "id": "b0bdbb00",
    "tags": []
   },
   "outputs": [],
   "source": [
    "CITATIONS_FILES_PARENT_DIR_PATH = \"./Data files and Python Code/Articles_by_sources\""
   ]
  },
  {
   "cell_type": "code",
   "execution_count": null,
   "id": "31116f59",
   "metadata": {
    "id": "31116f59"
   },
   "outputs": [],
   "source": [
    "citations = systematic_review.citation.Citations(CITATIONS_FILES_PARENT_DIR_PATH)"
   ]
  },
  {
   "cell_type": "code",
   "execution_count": null,
   "id": "c4b9d88f",
   "metadata": {
    "id": "c4b9d88f"
   },
   "outputs": [],
   "source": [
    "citations_df = citations.get_dataframe()\n",
    "citations_df"
   ]
  },
  {
   "cell_type": "markdown",
   "id": "a7c2a30f",
   "metadata": {
    "id": "a7c2a30f",
    "tags": []
   },
   "source": [
    "### Search Words"
   ]
  },
  {
   "cell_type": "markdown",
   "id": "d4fd5a18",
   "metadata": {
    "id": "d4fd5a18"
   },
   "source": [
    "<span style=\"color:green\">Please provide the path of search_words.json or make keyword dictionary.</span>"
   ]
  },
  {
   "cell_type": "code",
   "execution_count": null,
   "id": "fde647c5",
   "metadata": {
    "id": "fde647c5"
   },
   "outputs": [],
   "source": [
    "systematic_review.search_count.SearchWords().get_sample_keywords_json()"
   ]
  },
  {
   "cell_type": "markdown",
   "id": "M2u7UrIGgA1K",
   "metadata": {
    "id": "M2u7UrIGgA1K"
   },
   "source": [
    "<font color=\"#F7B905\" size=\"3\">Edit the template based on your need and provide the file path in cell below. if filename and location is not changed no need to change anything.</font>"
   ]
  },
  {
   "cell_type": "code",
   "execution_count": null,
   "id": "9450ee40",
   "metadata": {
    "id": "9450ee40"
   },
   "outputs": [],
   "source": [
    "#KEYWORDS_JSON_FILE_PATH = \"./Data files and Python Code/keywords.json\"\n",
    "SEARCH_WORDS_JSON_FILE_PATH = \"./sample_search_words_template.json\""
   ]
  },
  {
   "cell_type": "code",
   "execution_count": null,
   "id": "adb320d6",
   "metadata": {
    "id": "adb320d6"
   },
   "outputs": [],
   "source": [
    "search_words = systematic_review.search_count.SearchWords(SEARCH_WORDS_JSON_FILE_PATH, string_manipulation_method)"
   ]
  },
  {
   "cell_type": "code",
   "execution_count": null,
   "id": "2a6e4624",
   "metadata": {
    "id": "2a6e4624"
   },
   "outputs": [],
   "source": [
    "print(search_words.value)"
   ]
  },
  {
   "cell_type": "markdown",
   "id": "86d72e76",
   "metadata": {
    "id": "86d72e76",
    "tags": []
   },
   "source": [
    "### Search and count words in citations"
   ]
  },
  {
   "cell_type": "code",
   "execution_count": null,
   "id": "434ab5ef",
   "metadata": {
    "id": "434ab5ef"
   },
   "outputs": [],
   "source": [
    "citations_search_words_count = systematic_review.search_count.SearchCount(citations_df, search_words, string_manipulation_method)"
   ]
  },
  {
   "cell_type": "code",
   "execution_count": null,
   "id": "d05dbb3c",
   "metadata": {
    "id": "d05dbb3c",
    "scrolled": true
   },
   "outputs": [],
   "source": [
    "citations_search_words_count_df = citations_search_words_count.get_dataframe()\n",
    "citations_search_words_count_df"
   ]
  },
  {
   "cell_type": "markdown",
   "id": "d2bc32b3",
   "metadata": {
    "id": "d2bc32b3"
   },
   "source": [
    "citations_search_words_count.to_csv(\"./Data files and Python Code/OutputFiles/citations_keywords_count_df.csv\")"
   ]
  },
  {
   "cell_type": "markdown",
   "id": "dd98d0af",
   "metadata": {
    "id": "dd98d0af",
    "tags": []
   },
   "source": [
    "### Sort and Filter the citations"
   ]
  },
  {
   "cell_type": "markdown",
   "id": "056a695b",
   "metadata": {
    "id": "056a695b"
   },
   "source": [
    "<font color=\"#F7B905\" size=\"3\">Please provide how many research papers needed.</font>"
   ]
  },
  {
   "cell_type": "code",
   "execution_count": null,
   "id": "b6dc5641",
   "metadata": {
    "id": "b6dc5641"
   },
   "outputs": [],
   "source": [
    "# Filter the citations to required number\n",
    "required_citations_number = 500"
   ]
  },
  {
   "cell_type": "code",
   "execution_count": null,
   "id": "8c4444a5",
   "metadata": {
    "id": "8c4444a5"
   },
   "outputs": [],
   "source": [
    "filter_sorted_citations = systematic_review.filter_sort.FilterSort(citations_search_words_count_df, search_words, required_citations_number)"
   ]
  },
  {
   "cell_type": "code",
   "execution_count": null,
   "id": "b1196411",
   "metadata": {
    "id": "b1196411"
   },
   "outputs": [],
   "source": [
    "filter_sorted_citations_df = filter_sorted_citations.get_dataframe()"
   ]
  },
  {
   "cell_type": "code",
   "execution_count": null,
   "id": "95a2c156",
   "metadata": {
    "id": "95a2c156"
   },
   "outputs": [],
   "source": [
    "print(len(filter_sorted_citations_df))"
   ]
  },
  {
   "cell_type": "markdown",
   "id": "713f0e4f",
   "metadata": {
    "id": "713f0e4f"
   },
   "source": [
    "filter_sorted_citations.to_csv(\"./Data files and Python Code/OutputFiles/filter_sorted_citations_df.csv\")"
   ]
  },
  {
   "cell_type": "markdown",
   "id": "F7B8E5eghhHh",
   "metadata": {
    "id": "F7B8E5eghhHh"
   },
   "source": [
    "## Research paper files"
   ]
  },
  {
   "cell_type": "markdown",
   "id": "0ec85414",
   "metadata": {
    "id": "0ec85414",
    "tags": []
   },
   "source": [
    "### Downloading above selected pdf from databases."
   ]
  },
  {
   "cell_type": "markdown",
   "id": "c2dca8b2",
   "metadata": {
    "id": "c2dca8b2"
   },
   "source": [
    "This is completed with [browser-automationpy](https://github.com/chandraveshchaudhari/browser-automationpy)"
   ]
  },
  {
   "cell_type": "markdown",
   "id": "918a472b",
   "metadata": {
    "id": "918a472b",
    "tags": []
   },
   "source": [
    "### Validating the downloaded articles"
   ]
  },
  {
   "cell_type": "markdown",
   "id": "Yb4frDf8hAId",
   "metadata": {
    "id": "Yb4frDf8hAId"
   },
   "source": [
    "<font color=\"#F7B905\" size=\"3\">Please provide parent directory path of all downloaded research papers.</font>"
   ]
  },
  {
   "cell_type": "code",
   "execution_count": null,
   "id": "bd81e852",
   "metadata": {
    "id": "bd81e852"
   },
   "outputs": [],
   "source": [
    "DOWNLOADED_ARTICLES_PATH = \"./Data files and Python Code/downloadedArticles\""
   ]
  },
  {
   "cell_type": "markdown",
   "id": "P04lsOaBivck",
   "metadata": {
    "id": "P04lsOaBivck"
   },
   "source": [
    "<font color=\"#F7B905\" size=\"3\">Please provide path of text file containing names of research papers separated by new line OR write None.</font>"
   ]
  },
  {
   "cell_type": "code",
   "execution_count": null,
   "id": "YKqz5YMqkGuL",
   "metadata": {
    "id": "YKqz5YMqkGuL"
   },
   "outputs": [],
   "source": [
    "IN_ACCESSIBLE_ARTICLES_TEXT_FILE_PATH = \"./Data files and Python Code/not_accessible_articles.txt\""
   ]
  },
  {
   "cell_type": "code",
   "execution_count": null,
   "id": "5e7e90ce",
   "metadata": {
    "id": "5e7e90ce"
   },
   "outputs": [],
   "source": [
    "validation = systematic_review.validation.Validation(filter_sorted_citations_df, DOWNLOADED_ARTICLES_PATH, IN_ACCESSIBLE_ARTICLES_TEXT_FILE_PATH)"
   ]
  },
  {
   "cell_type": "code",
   "execution_count": null,
   "id": "e27cab5c",
   "metadata": {
    "id": "e27cab5c",
    "scrolled": true
   },
   "outputs": [],
   "source": [
    "validated_research_papers = validation.get_dataframe()"
   ]
  },
  {
   "cell_type": "code",
   "execution_count": null,
   "id": "f90ab757",
   "metadata": {
    "id": "f90ab757"
   },
   "outputs": [],
   "source": [
    "validation.info()"
   ]
  },
  {
   "cell_type": "markdown",
   "id": "1a2ea0e1",
   "metadata": {
    "id": "1a2ea0e1"
   },
   "source": [
    "validation.to_csv(\"validation.csv\")"
   ]
  },
  {
   "cell_type": "markdown",
   "id": "8ff34466",
   "metadata": {
    "id": "8ff34466",
    "tags": []
   },
   "source": [
    "### Search and count the research papers files."
   ]
  },
  {
   "cell_type": "code",
   "execution_count": null,
   "id": "733f9288",
   "metadata": {
    "id": "733f9288"
   },
   "outputs": [],
   "source": [
    "research_paper_search_words_count = systematic_review.search_count.SearchCount(validated_research_papers, search_words, string_manipulation_method)"
   ]
  },
  {
   "cell_type": "code",
   "execution_count": null,
   "id": "747141bc",
   "metadata": {
    "id": "747141bc"
   },
   "outputs": [],
   "source": [
    "research_paper_search_words_count_df = research_paper_search_words_count.get_dataframe()"
   ]
  },
  {
   "cell_type": "markdown",
   "id": "24640637",
   "metadata": {
    "id": "24640637"
   },
   "source": [
    "research_paper_search_words_count.to_csv(\"./Data files and Python Code/OutputFiles/pdf_keywords_count_df.csv\")"
   ]
  },
  {
   "cell_type": "markdown",
   "id": "23874447",
   "metadata": {
    "id": "23874447",
    "tags": []
   },
   "source": [
    "### Filter and sort pdf counted df"
   ]
  },
  {
   "cell_type": "markdown",
   "id": "Rp--8LkLmSCl",
   "metadata": {
    "id": "Rp--8LkLmSCl"
   },
   "source": [
    "<font color=\"#F7B905\" size=\"3\">Please provide how many research papers needed.</font>"
   ]
  },
  {
   "cell_type": "code",
   "execution_count": null,
   "id": "86b16847",
   "metadata": {
    "id": "86b16847"
   },
   "outputs": [],
   "source": [
    "required_full_text_documents = 100"
   ]
  },
  {
   "cell_type": "code",
   "execution_count": null,
   "id": "0aed2892",
   "metadata": {
    "id": "0aed2892"
   },
   "outputs": [],
   "source": [
    "filter_sorted_research_papers = systematic_review.filter_sort.FilterSort(research_paper_search_words_count_df, search_words, required_full_text_documents)"
   ]
  },
  {
   "cell_type": "code",
   "execution_count": null,
   "id": "35595644",
   "metadata": {
    "id": "35595644"
   },
   "outputs": [],
   "source": [
    "selected_review_articles_df = filter_sorted_research_papers.get_dataframe()"
   ]
  },
  {
   "cell_type": "markdown",
   "id": "e887c46c",
   "metadata": {
    "id": "e887c46c"
   },
   "source": [
    "filter_sorted_research_papers.to_csv(\"./Data files and Python Code/OutputFiles/selected_review_articles_df.csv\")"
   ]
  },
  {
   "cell_type": "markdown",
   "id": "23IlaaDAodmF",
   "metadata": {
    "id": "23IlaaDAodmF"
   },
   "source": [
    "## Generating research papers review files: \n",
    "choose any of following"
   ]
  },
  {
   "cell_type": "markdown",
   "id": "BEZ9n6KYqW6p",
   "metadata": {
    "id": "BEZ9n6KYqW6p"
   },
   "source": [
    "- sorted based on sources: to make it easier to find articles in folder."
   ]
  },
  {
   "cell_type": "code",
   "execution_count": null,
   "id": "134e8b93",
   "metadata": {
    "id": "134e8b93"
   },
   "outputs": [],
   "source": [
    "sorted_Finaldf = systematic_review.filter_sort.sort_dataframe_based_on_column(selected_review_articles_df, 'source')"
   ]
  },
  {
   "cell_type": "code",
   "execution_count": null,
   "id": "fe11ee3f",
   "metadata": {
    "id": "fe11ee3f"
   },
   "outputs": [],
   "source": [
    "#sorted_Finaldf.to_csv(\"./Data files and Python Code/OutputFiles/sorted_Finaldf.csv\")"
   ]
  },
  {
   "cell_type": "markdown",
   "id": "ea8e6182",
   "metadata": {
    "id": "ea8e6182"
   },
   "source": [
    "- Creating the sample literature review file:      \n",
    "by adding review columns to enter details manually. The keywords counts are not required at this point of the time, so they are dropped.    "
   ]
  },
  {
   "cell_type": "code",
   "execution_count": null,
   "id": "e1e84dc8",
   "metadata": {
    "id": "e1e84dc8"
   },
   "outputs": [],
   "source": [
    "selected_citation = systematic_review.citation.drop_search_words_count_columns(sorted_Finaldf, search_words)\n",
    "selected_citation_review = systematic_review.analysis.creating_sample_review_file(selected_citation)"
   ]
  },
  {
   "cell_type": "markdown",
   "id": "19df5af9",
   "metadata": {
    "id": "19df5af9"
   },
   "source": [
    "selected_citation_review.to_csv(\"./Data files and Python Code/OutputFiles/selected_citation_review.csv\")"
   ]
  },
  {
   "cell_type": "markdown",
   "id": "d9c52096",
   "metadata": {
    "id": "d9c52096"
   },
   "source": [
    "## Sytematic Review Workflow diagram and info"
   ]
  },
  {
   "cell_type": "code",
   "execution_count": null,
   "id": "39d6daf3",
   "metadata": {
    "id": "39d6daf3"
   },
   "outputs": [],
   "source": [
    "my_analysis = systematic_review.analysis.SystematicReviewInfo(CITATIONS_FILES_PARENT_DIR_PATH, filter_sorted_citations_df,\n",
    "                 validated_research_papers, selected_review_articles_df)"
   ]
  },
  {
   "cell_type": "code",
   "execution_count": null,
   "id": "8fa28712",
   "metadata": {
    "id": "8fa28712"
   },
   "outputs": [],
   "source": [
    "my_analysis.info()"
   ]
  },
  {
   "cell_type": "code",
   "execution_count": null,
   "id": "fd9f34ab",
   "metadata": {
    "id": "fd9f34ab"
   },
   "outputs": [],
   "source": [
    "my_analysis.systematic_review_diagram()"
   ]
  },
  {
   "cell_type": "markdown",
   "id": "gZK7stGLruKj",
   "metadata": {
    "id": "gZK7stGLruKj"
   },
   "source": [
    "## Analysis"
   ]
  },
  {
   "cell_type": "markdown",
   "id": "94f807ef",
   "metadata": {
    "id": "94f807ef"
   },
   "source": [
    "| Analysis needed                                     | Fact table | Diagram |\n",
    "| --------------------------------------------------- | ---------- | ------- |\n",
    "| The number of articles                              | yes        | no      |\n",
    "| Period of the publications                          | yes        | yes     |\n",
    "| Number of authors                                   | yes        | no      |\n",
    "| Articles with single authors                        | yes        | no      |\n",
    "| Articles per authors                                | yes        | no      |\n",
    "| Authors per articles                                | yes        | no      |\n",
    "| Top N countries with the highest number of articles | yes        | yes     |\n",
    "| Top N journals with the highest number of articles  | yes        | yes     |\n",
    "| Top N keywords most used in the articles            | yes        | yes     |\n",
    "| The year with the highest number of articles        | yes        | yes     |"
   ]
  },
  {
   "cell_type": "code",
   "execution_count": null,
   "id": "e4ce96b5",
   "metadata": {
    "id": "e4ce96b5"
   },
   "outputs": [],
   "source": [
    "my_cite_analysis = systematic_review.analysis.CitationAnalysis(sorted_Finaldf)"
   ]
  },
  {
   "cell_type": "code",
   "execution_count": null,
   "id": "ae38babc",
   "metadata": {
    "id": "ae38babc"
   },
   "outputs": [],
   "source": [
    "my_cite_analysis.publication_year_info()"
   ]
  },
  {
   "cell_type": "code",
   "execution_count": null,
   "id": "be3a2289",
   "metadata": {
    "id": "be3a2289"
   },
   "outputs": [],
   "source": [
    "my_cite_analysis.publication_year_diagram()"
   ]
  },
  {
   "cell_type": "code",
   "execution_count": null,
   "id": "be36d03a",
   "metadata": {
    "id": "be36d03a"
   },
   "outputs": [],
   "source": [
    "my_cite_analysis.authors_info()"
   ]
  },
  {
   "cell_type": "code",
   "execution_count": null,
   "id": "73d4ffb4",
   "metadata": {
    "id": "73d4ffb4"
   },
   "outputs": [],
   "source": [
    "my_cite_analysis.publication_place_info()"
   ]
  },
  {
   "cell_type": "code",
   "execution_count": null,
   "id": "d8ff6959",
   "metadata": {
    "id": "d8ff6959"
   },
   "outputs": [],
   "source": [
    "my_cite_analysis.publication_place_diagram()"
   ]
  },
  {
   "cell_type": "code",
   "execution_count": null,
   "id": "f723d147",
   "metadata": {
    "id": "f723d147",
    "scrolled": true
   },
   "outputs": [],
   "source": [
    "my_cite_analysis.keywords_info()"
   ]
  },
  {
   "cell_type": "code",
   "execution_count": null,
   "id": "442ad526",
   "metadata": {
    "id": "442ad526",
    "scrolled": true
   },
   "outputs": [],
   "source": [
    "my_cite_analysis.keyword_diagram(top_result=10)"
   ]
  },
  {
   "cell_type": "code",
   "execution_count": null,
   "id": "89059183",
   "metadata": {
    "id": "89059183"
   },
   "outputs": [],
   "source": [
    "my_cite_analysis.publisher_info()"
   ]
  },
  {
   "cell_type": "code",
   "execution_count": null,
   "id": "111bafd8",
   "metadata": {
    "id": "111bafd8"
   },
   "outputs": [],
   "source": [
    "my_cite_analysis.publisher_diagram()"
   ]
  }
 ],
 "metadata": {
  "colab": {
   "collapsed_sections": [
    "bjNb91Ujh24e",
    "TTbVIzuMVDsl",
    "l1kE_nEkaPTh",
    "5gqcBKW5YKWb",
    "1dab0dbd",
    "CquSYFX-hJM-",
    "35b8ffdc",
    "a7c2a30f",
    "86d72e76",
    "F7B8E5eghhHh",
    "d9c52096"
   ],
   "name": "systematic-reviewpy tutorial.ipynb",
   "provenance": []
  },
  "kernelspec": {
   "display_name": "Python 3",
   "language": "python",
   "name": "python3"
  },
  "language_info": {
   "codemirror_mode": {
    "name": "ipython",
    "version": 3
   },
   "file_extension": ".py",
   "mimetype": "text/x-python",
   "name": "python",
   "nbconvert_exporter": "python",
   "pygments_lexer": "ipython3",
   "version": "3.8.10"
  }
 },
 "nbformat": 4,
 "nbformat_minor": 5
}